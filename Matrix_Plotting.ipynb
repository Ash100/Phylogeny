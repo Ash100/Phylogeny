{
  "nbformat": 4,
  "nbformat_minor": 0,
  "metadata": {
    "colab": {
      "provenance": [],
      "authorship_tag": "ABX9TyO0lFf3V7Gj5kDMahA1wNtt",
      "include_colab_link": true
    },
    "kernelspec": {
      "name": "python3",
      "display_name": "Python 3"
    },
    "language_info": {
      "name": "python"
    }
  },
  "cells": [
    {
      "cell_type": "markdown",
      "metadata": {
        "id": "view-in-github",
        "colab_type": "text"
      },
      "source": [
        "<a href=\"https://colab.research.google.com/github/Ash100/Phylogeny/blob/main/Matrix_Plotting.ipynb\" target=\"_parent\"><img src=\"https://colab.research.google.com/assets/colab-badge.svg\" alt=\"Open In Colab\"/></a>"
      ]
    },
    {
      "cell_type": "markdown",
      "source": [
        "Fol Plotting Matrix Data Prepared by Dr. Ashfaq Ahmad"
      ],
      "metadata": {
        "id": "Xg6lFRSQ128V"
      }
    },
    {
      "cell_type": "code",
      "execution_count": 25,
      "metadata": {
        "colab": {
          "base_uri": "https://localhost:8080/",
          "height": 73
        },
        "id": "8QUg0GuSq580",
        "outputId": "648a8370-2feb-4e21-93e3-78a0e1f7338a"
      },
      "outputs": [
        {
          "output_type": "display_data",
          "data": {
            "text/plain": [
              "<IPython.core.display.HTML object>"
            ],
            "text/html": [
              "\n",
              "     <input type=\"file\" id=\"files-3384a55a-b020-424f-b25b-0eaf01a4d212\" name=\"files[]\" multiple disabled\n",
              "        style=\"border:none\" />\n",
              "     <output id=\"result-3384a55a-b020-424f-b25b-0eaf01a4d212\">\n",
              "      Upload widget is only available when the cell has been executed in the\n",
              "      current browser session. Please rerun this cell to enable.\n",
              "      </output>\n",
              "      <script>// Copyright 2017 Google LLC\n",
              "//\n",
              "// Licensed under the Apache License, Version 2.0 (the \"License\");\n",
              "// you may not use this file except in compliance with the License.\n",
              "// You may obtain a copy of the License at\n",
              "//\n",
              "//      http://www.apache.org/licenses/LICENSE-2.0\n",
              "//\n",
              "// Unless required by applicable law or agreed to in writing, software\n",
              "// distributed under the License is distributed on an \"AS IS\" BASIS,\n",
              "// WITHOUT WARRANTIES OR CONDITIONS OF ANY KIND, either express or implied.\n",
              "// See the License for the specific language governing permissions and\n",
              "// limitations under the License.\n",
              "\n",
              "/**\n",
              " * @fileoverview Helpers for google.colab Python module.\n",
              " */\n",
              "(function(scope) {\n",
              "function span(text, styleAttributes = {}) {\n",
              "  const element = document.createElement('span');\n",
              "  element.textContent = text;\n",
              "  for (const key of Object.keys(styleAttributes)) {\n",
              "    element.style[key] = styleAttributes[key];\n",
              "  }\n",
              "  return element;\n",
              "}\n",
              "\n",
              "// Max number of bytes which will be uploaded at a time.\n",
              "const MAX_PAYLOAD_SIZE = 100 * 1024;\n",
              "\n",
              "function _uploadFiles(inputId, outputId) {\n",
              "  const steps = uploadFilesStep(inputId, outputId);\n",
              "  const outputElement = document.getElementById(outputId);\n",
              "  // Cache steps on the outputElement to make it available for the next call\n",
              "  // to uploadFilesContinue from Python.\n",
              "  outputElement.steps = steps;\n",
              "\n",
              "  return _uploadFilesContinue(outputId);\n",
              "}\n",
              "\n",
              "// This is roughly an async generator (not supported in the browser yet),\n",
              "// where there are multiple asynchronous steps and the Python side is going\n",
              "// to poll for completion of each step.\n",
              "// This uses a Promise to block the python side on completion of each step,\n",
              "// then passes the result of the previous step as the input to the next step.\n",
              "function _uploadFilesContinue(outputId) {\n",
              "  const outputElement = document.getElementById(outputId);\n",
              "  const steps = outputElement.steps;\n",
              "\n",
              "  const next = steps.next(outputElement.lastPromiseValue);\n",
              "  return Promise.resolve(next.value.promise).then((value) => {\n",
              "    // Cache the last promise value to make it available to the next\n",
              "    // step of the generator.\n",
              "    outputElement.lastPromiseValue = value;\n",
              "    return next.value.response;\n",
              "  });\n",
              "}\n",
              "\n",
              "/**\n",
              " * Generator function which is called between each async step of the upload\n",
              " * process.\n",
              " * @param {string} inputId Element ID of the input file picker element.\n",
              " * @param {string} outputId Element ID of the output display.\n",
              " * @return {!Iterable<!Object>} Iterable of next steps.\n",
              " */\n",
              "function* uploadFilesStep(inputId, outputId) {\n",
              "  const inputElement = document.getElementById(inputId);\n",
              "  inputElement.disabled = false;\n",
              "\n",
              "  const outputElement = document.getElementById(outputId);\n",
              "  outputElement.innerHTML = '';\n",
              "\n",
              "  const pickedPromise = new Promise((resolve) => {\n",
              "    inputElement.addEventListener('change', (e) => {\n",
              "      resolve(e.target.files);\n",
              "    });\n",
              "  });\n",
              "\n",
              "  const cancel = document.createElement('button');\n",
              "  inputElement.parentElement.appendChild(cancel);\n",
              "  cancel.textContent = 'Cancel upload';\n",
              "  const cancelPromise = new Promise((resolve) => {\n",
              "    cancel.onclick = () => {\n",
              "      resolve(null);\n",
              "    };\n",
              "  });\n",
              "\n",
              "  // Wait for the user to pick the files.\n",
              "  const files = yield {\n",
              "    promise: Promise.race([pickedPromise, cancelPromise]),\n",
              "    response: {\n",
              "      action: 'starting',\n",
              "    }\n",
              "  };\n",
              "\n",
              "  cancel.remove();\n",
              "\n",
              "  // Disable the input element since further picks are not allowed.\n",
              "  inputElement.disabled = true;\n",
              "\n",
              "  if (!files) {\n",
              "    return {\n",
              "      response: {\n",
              "        action: 'complete',\n",
              "      }\n",
              "    };\n",
              "  }\n",
              "\n",
              "  for (const file of files) {\n",
              "    const li = document.createElement('li');\n",
              "    li.append(span(file.name, {fontWeight: 'bold'}));\n",
              "    li.append(span(\n",
              "        `(${file.type || 'n/a'}) - ${file.size} bytes, ` +\n",
              "        `last modified: ${\n",
              "            file.lastModifiedDate ? file.lastModifiedDate.toLocaleDateString() :\n",
              "                                    'n/a'} - `));\n",
              "    const percent = span('0% done');\n",
              "    li.appendChild(percent);\n",
              "\n",
              "    outputElement.appendChild(li);\n",
              "\n",
              "    const fileDataPromise = new Promise((resolve) => {\n",
              "      const reader = new FileReader();\n",
              "      reader.onload = (e) => {\n",
              "        resolve(e.target.result);\n",
              "      };\n",
              "      reader.readAsArrayBuffer(file);\n",
              "    });\n",
              "    // Wait for the data to be ready.\n",
              "    let fileData = yield {\n",
              "      promise: fileDataPromise,\n",
              "      response: {\n",
              "        action: 'continue',\n",
              "      }\n",
              "    };\n",
              "\n",
              "    // Use a chunked sending to avoid message size limits. See b/62115660.\n",
              "    let position = 0;\n",
              "    do {\n",
              "      const length = Math.min(fileData.byteLength - position, MAX_PAYLOAD_SIZE);\n",
              "      const chunk = new Uint8Array(fileData, position, length);\n",
              "      position += length;\n",
              "\n",
              "      const base64 = btoa(String.fromCharCode.apply(null, chunk));\n",
              "      yield {\n",
              "        response: {\n",
              "          action: 'append',\n",
              "          file: file.name,\n",
              "          data: base64,\n",
              "        },\n",
              "      };\n",
              "\n",
              "      let percentDone = fileData.byteLength === 0 ?\n",
              "          100 :\n",
              "          Math.round((position / fileData.byteLength) * 100);\n",
              "      percent.textContent = `${percentDone}% done`;\n",
              "\n",
              "    } while (position < fileData.byteLength);\n",
              "  }\n",
              "\n",
              "  // All done.\n",
              "  yield {\n",
              "    response: {\n",
              "      action: 'complete',\n",
              "    }\n",
              "  };\n",
              "}\n",
              "\n",
              "scope.google = scope.google || {};\n",
              "scope.google.colab = scope.google.colab || {};\n",
              "scope.google.colab._files = {\n",
              "  _uploadFiles,\n",
              "  _uploadFilesContinue,\n",
              "};\n",
              "})(self);\n",
              "</script> "
            ]
          },
          "metadata": {}
        },
        {
          "output_type": "stream",
          "name": "stdout",
          "text": [
            "Saving aligned_1TSF_iden.1.csv to aligned_1TSF_iden.1.csv\n"
          ]
        }
      ],
      "source": [
        "from google.colab import files\n",
        "uploaded = files.upload()"
      ]
    },
    {
      "cell_type": "code",
      "source": [
        "import pandas as pd\n",
        "\n",
        "# Replace 'matrix_file.csv' with the name of your uploaded file\n",
        "matrix_file = 'aligned_1TSF_iden.1.csv'\n",
        "matrix_df = pd.read_csv(matrix_file, header=None)\n",
        "matrix = matrix_df.values"
      ],
      "metadata": {
        "id": "4Mp03tm0rE1k"
      },
      "execution_count": 26,
      "outputs": []
    },
    {
      "cell_type": "code",
      "source": [
        "import pandas as pd\n",
        "\n",
        "# Replace 'matrix_file.csv' with the name of your uploaded file\n",
        "matrix_file = list(uploaded.keys())[0]  # Get the uploaded file name\n",
        "matrix_df = pd.read_csv(matrix_file, sep='\\t', header=None)\n",
        "\n",
        "# Drop the first row and the first column to get the numeric data\n",
        "matrix_numeric = matrix_df.drop(index=0, columns=0)\n",
        "\n",
        "# Convert the DataFrame to a numpy array\n",
        "matrix = matrix_numeric.apply(pd.to_numeric, errors='coerce').values\n",
        "\n",
        "# Check the content of the numeric matrix\n",
        "print(matrix)"
      ],
      "metadata": {
        "colab": {
          "base_uri": "https://localhost:8080/"
        },
        "id": "ijTUFTb-ruOF",
        "outputId": "7a8590d1-0c6c-4d5c-ad04-9e5f1cc58cb0"
      },
      "execution_count": 27,
      "outputs": [
        {
          "output_type": "stream",
          "name": "stdout",
          "text": [
            "[]\n"
          ]
        }
      ]
    },
    {
      "cell_type": "code",
      "source": [
        "import pandas as pd\n",
        "\n",
        "# Get the uploaded file name\n",
        "matrix_file = list(uploaded.keys())[0]\n",
        "\n",
        "# Read the file with tab-separated values\n",
        "matrix_df = pd.read_csv(matrix_file, sep='\\t', header=None)\n",
        "\n",
        "# Inspect the first few rows to understand the structure\n",
        "print(matrix_df.head())\n",
        "\n",
        "# Drop the first row and the first column to get the numeric data\n",
        "matrix_numeric = matrix_df.drop(index=0, columns=0)\n",
        "\n",
        "# Convert the DataFrame to a numpy array, ensuring numeric conversion\n",
        "matrix = matrix_numeric.apply(pd.to_numeric, errors='coerce').values\n",
        "\n",
        "# Check the shape and content of the numeric matrix\n",
        "print(\"Matrix shape:\", matrix.shape)\n",
        "print(matrix)"
      ],
      "metadata": {
        "id": "7tVvDy58slte"
      },
      "execution_count": null,
      "outputs": []
    },
    {
      "cell_type": "code",
      "source": [
        "import numpy as np\n",
        "# Remove any rows or columns that are entirely NaN\n",
        "matrix = matrix[~np.isnan(matrix).all(axis=1)]\n",
        "matrix = matrix[:, ~np.isnan(matrix).all(axis=0)]\n",
        "\n",
        "# Check the shape and content of the cleaned numeric matrix\n",
        "print(\"Cleaned Matrix shape:\", matrix.shape)\n",
        "print(matrix)"
      ],
      "metadata": {
        "id": "qbtIy9Cos1jI"
      },
      "execution_count": null,
      "outputs": []
    },
    {
      "cell_type": "code",
      "source": [
        "if matrix.size > 0:\n",
        "    plt.figure(figsize=(10, 8))\n",
        "    sns.heatmap(matrix, cmap='viridis')\n",
        "    plt.title('Heatmap of Matrix')\n",
        "    plt.xlabel('Columns')\n",
        "    plt.ylabel('Rows')\n",
        "    plt.show()\n",
        "\n",
        "    plt.figure(figsize=(10, 8))\n",
        "    for i, row in enumerate(matrix):\n",
        "        plt.plot(row, label=f'Row {i}')\n",
        "    plt.title('Line Plot of Matrix Rows')\n",
        "    plt.xlabel('Index')\n",
        "    plt.ylabel('Value')\n",
        "    plt.legend()\n",
        "    plt.show()\n",
        "else:\n",
        "    print(\"Matrix is empty. No plots to display.\")"
      ],
      "metadata": {
        "id": "fKIrMu4JsIJN"
      },
      "execution_count": null,
      "outputs": []
    },
    {
      "cell_type": "code",
      "source": [
        "import pandas as pd\n",
        "import numpy as np\n",
        "import matplotlib.pyplot as plt\n",
        "import seaborn as sns\n",
        "\n",
        "# Load the data\n",
        "file_path = '/content/aligned_1TSF_iden.1.csv'  # Adjust the file path as necessary\n",
        "df = pd.read_csv(file_path, index_col=0)\n",
        "\n",
        "# Replace '-' with NaN and convert to a numeric matrix\n",
        "df.replace('-', np.nan, inplace=True)\n",
        "matrix = df.to_numpy(dtype=np.float64)\n",
        "\n",
        "# Check if the matrix is empty\n",
        "if matrix.size > 0:\n",
        "    # Plot the matrix as a heatmap without annotations\n",
        "    plt.figure(figsize=(12, 10))\n",
        "    sns.heatmap(matrix, cmap='coolwarm', annot=False, cbar=True,\n",
        "                xticklabels=df.columns, yticklabels=df.index, linewidths=.5, linecolor='gray')\n",
        "    plt.title('Similarity Matrix of 1TSF', fontsize=16)\n",
        "    plt.xlabel('Species (Columns)', fontsize=14)\n",
        "    plt.ylabel('Species (Rows)', fontsize=14)\n",
        "    plt.xticks(rotation=90, ha='right', fontsize=8)\n",
        "    plt.yticks(fontsize=8)\n",
        "    plt.savefig('/content/Similarity_Matrix_of_1TSF.png', dpi=600, bbox_inches='tight')\n",
        "    plt.show()"
      ],
      "metadata": {
        "id": "KFeweIwVwkK2"
      },
      "execution_count": null,
      "outputs": []
    }
  ]
}