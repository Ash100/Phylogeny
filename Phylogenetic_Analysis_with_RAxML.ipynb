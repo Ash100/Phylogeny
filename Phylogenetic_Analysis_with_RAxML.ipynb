{
  "nbformat": 4,
  "nbformat_minor": 0,
  "metadata": {
    "colab": {
      "provenance": [],
      "include_colab_link": true
    },
    "kernelspec": {
      "display_name": "Python 3",
      "name": "python3"
    }
  },
  "cells": [
    {
      "cell_type": "markdown",
      "metadata": {
        "id": "view-in-github",
        "colab_type": "text"
      },
      "source": [
        "<a href=\"https://colab.research.google.com/github/Ash100/Phylogeny/blob/main/Phylogenetic_Analysis_with_RAxML.ipynb\" target=\"_parent\"><img src=\"https://colab.research.google.com/assets/colab-badge.svg\" alt=\"Open In Colab\"/></a>"
      ]
    },
    {
      "cell_type": "markdown",
      "metadata": {
        "id": "PrWazTVfeHMf"
      },
      "source": [
        "#Performing Phylogenetic Analysis using biopython and RAxML\n",
        "\n",
        "My name is **Dr. Ashfaq Ahmad** and you can watch complete tutorial of this notebook on [**Bioinformatics Insights**](https://www.youtube.com/channel/UC2Z_WaqTjbvXGGQNpIF9nAg). This tutorial is presented and managed here for teaching purposes to provide alternative learning materials.\n",
        "\n",
        "We took guidance from the avaailable resources present on [pb3lab](https://github.com/pb3lab).\n"
      ]
    },
    {
      "cell_type": "markdown",
      "source": [
        "##Learning Goals\n",
        "1. Understanding Basics of Phylogenetic Tree\n",
        "2. Construction of a Phylogenetics Tree\n",
        "3. Application of Bootstrapping\n",
        "4. Testing accuracy of Phylogenetic Tree"
      ],
      "metadata": {
        "id": "hjMVMmmO7s4U"
      }
    },
    {
      "cell_type": "markdown",
      "metadata": {
        "id": "IA9WmdJLeQRm"
      },
      "source": [
        "## Theoretical Aspects of Phylogeny"
      ]
    },
    {
      "cell_type": "markdown",
      "metadata": {
        "id": "spFpaC5lenug"
      },
      "source": [
        "Phylogenetic analysis lies at the core of genomics and bioinformatics and seeks to establish the evolutionary relationships between different homologous DNA or protein sequences and their ancestral sequences (common ancestors) from which they emerge. A typical result from a phylogenetic analysis is a **phylogenetic tree**, such as the following:"
      ]
    },
    {
      "cell_type": "markdown",
      "metadata": {
        "id": "Gh6BAOK51POj"
      },
      "source": [
        "<figure>\n",
        "<center>\n",
        "<img src='https://raw.githubusercontent.com/pb3lab/ibm3202/master/images/phylo_01.png' width=500/>\n",
        "<figcaption>FIGURE 1. A phylogenetic tree visually represents a hypothesis of how a group of sequences\n",
        "are related. This figure explores how the way a tree is drawn conveys information. This tree shows how the seven sequences at the tips of the branches, called taxa, are related. Each horizontal branch represents an evolutionary\n",
        "lineage. The length of the branch is arbitrary\n",
        "unless the diagram specifies that branch lengths\n",
        "represent information such as time or amount of\n",
        "genetic change. Each branch point represents the common ancestor of the evolutionary lineages diverging from it. One of these branch points represents the common ancestor of all the sequences shown in this tree.\n",
        "<br>Urry LA et al (2020). Campbell Biology. <i>Pearson Education, 12th Ed</i></figcaption></center>\n",
        "</figure>"
      ]
    },
    {
      "cell_type": "markdown",
      "metadata": {
        "id": "lrMsCuYTe8Us"
      },
      "source": [
        "In this representation, the tips of the tree (or the leaves) correspond to different, currently existing sequences of genes or proteins (usually called the **taxa**), thus they represent real data. The **nodes** or branch points connecting two sequences are the points of divergence in sequence evolution, namely **common ancestors** of extant taxa. The connection of two or more sequences with a hypothetical, extinct ancestral sequence allows grouping actual sequences into **clades**. On the other hand, the branch lengths represent the evolutionary changes between an ancestor and its descendant. Please notice that we are saying **'sequences'** and not **'species'**, as such statement requires the assumption of genetic isolation (i.e. all sequences in a given species show the same evolutionary drifts, but we learn from lectures that we can have horizontal gene transfer, right?)."
      ]
    },
    {
      "cell_type": "markdown",
      "metadata": {
        "id": "-dQoKNt5fNFO"
      },
      "source": [
        "Many things can be said about this tree. First, a **phylogenetic tree** is based on a multiple sequence alignment and thus it is **as good as the alignment is**. See for example the polytomy in the ancestral node connecting taxa D, E and F; the sequence information between these sequences did not allow discerning how these sequences evolved from a common ancestor (i.e. imagine that there were two mutations and the phylogenetic analysis does not know which one comes first or second).\n",
        "\n",
        "Second, taxon G is defined as a **basal taxon**, a lineage that diverges from all other members of its group early in the history of the group.\n",
        "\n",
        "Lastly, the phylogenetic tree is **rooted** through an **outgroup**, i.e. a sequence (or a group or sequences) that is more distantly related to the ingroup sequences than the ingroup sequences are to each other; a distant homolog. As an outgroup sequence is not easy to define for all phylogenetic inferences, a vast number of phylogenetic trees in the literature are **unrooted** (i.e. there is no outgroup)."
      ]
    },
    {
      "cell_type": "markdown",
      "metadata": {
        "id": "hMLCidtMfd7E"
      },
      "source": [
        "A phylogenetic tree is an estimation of the possible routes of evolution from ancestral lineages to present-day sequences that depends on many variables. We will smoothly go through all the steps of this inference, from sequence alignment to the “resurrection” of the most probable ancestral sequence."
      ]
    },
    {
      "cell_type": "markdown",
      "metadata": {
        "id": "5_sRCGKuf8Bf"
      },
      "source": [
        "## Overview"
      ]
    },
    {
      "cell_type": "markdown",
      "metadata": {
        "id": "XMdhm8X_f_XN"
      },
      "source": [
        "In this tutorial we will work with bacterial Two-component system protein YYCG."
      ]
    },
    {
      "cell_type": "markdown",
      "metadata": {
        "id": "buTRd47h4QfK"
      },
      "source": [
        "##Installation of the Required softwares"
      ]
    },
    {
      "cell_type": "markdown",
      "metadata": {
        "id": "KSAoowL_4XIV"
      },
      "source": [
        "Before we start, you must first **remember to start the hosted runtime in Google Colab**.\n",
        "\n",
        "Then, we must install several pieces of software to perform this tutorial. Namely:\n",
        "- **biopython** for searching, retrieving, parsing and storing DNA and protein sequences.\n",
        "- **MAFFT**, a multiple sequence alignment program for unix-like operating systems that offers a range of multiple alignment methods.\n",
        "- **miniconda**, a free minimal installer of **conda** for software package and environment management.\n",
        "- **ModelTest-ng**, a tool for selecting the best-fit model of evolution for DNA and protein alignments.\n",
        "- **RAxML-ng**, a phylogenetic tree inference tool which uses maximum-likelihood (ML) optimality criterion.\n",
        "\n",
        "After several tests, the following installation instructions are the best way of setting up **Google Colab** for this laboratory session.\n",
        "\n",
        "1. We will first install biopython as follows:"
      ]
    },
    {
      "cell_type": "code",
      "metadata": {
        "id": "PdWvUiMR38gO"
      },
      "source": [
        "#Installing biopython using pip\n",
        "!pip install biopython"
      ],
      "execution_count": null,
      "outputs": []
    },
    {
      "cell_type": "code",
      "metadata": {
        "id": "e3NwRC9A58AN"
      },
      "source": [
        "#Importing biopython and os for safety\n",
        "import os\n",
        "import sys\n",
        "import Bio"
      ],
      "execution_count": 2,
      "outputs": []
    },
    {
      "cell_type": "markdown",
      "metadata": {
        "id": "-6_wBK035ZW_"
      },
      "source": [
        "Then, we will install MAFFT:"
      ]
    },
    {
      "cell_type": "code",
      "metadata": {
        "id": "H18SXwk5rikC"
      },
      "source": [
        "#Installing MAFFT using apt-get in quiet mode\n",
        "!apt-get install -qq -y mafft"
      ],
      "execution_count": null,
      "outputs": []
    },
    {
      "cell_type": "code",
      "metadata": {
        "id": "umwoV7oR5-nH"
      },
      "source": [
        "#Checking that MAFFT was succesfully installed\n",
        "!mafft --help"
      ],
      "execution_count": null,
      "outputs": []
    },
    {
      "cell_type": "markdown",
      "metadata": {
        "id": "Goex7fGQTmcR"
      },
      "source": [
        "Finally, we will install conda to be able to install RAxML-NG and ModelTest-NG as follows:"
      ]
    },
    {
      "cell_type": "code",
      "metadata": {
        "id": "i7x5g0HGxwpB"
      },
      "source": [
        "#Install conda using the new conda-colab library\n",
        "!pip install -q condacolab\n",
        "import condacolab\n",
        "condacolab.install_miniconda()\n",
        "\n",
        "#Install RAxML-NG and ModelTest-NG from\n",
        "#the bioconda repository\n",
        "!conda install -c bioconda raxml-ng modeltest-ng --yes\n",
        "\n",
        "#MAFFT could be also installed with conda\n",
        "#using !conda install -c bioconda -y mafft\n",
        "#We opted for apt-get instead"
      ],
      "execution_count": null,
      "outputs": []
    },
    {
      "cell_type": "markdown",
      "source": [
        "#**Important**\n",
        "This is an advanced level tutorial and If you are new in the field and do not know much more about Phylogenetics. Please watch the below three videos.\n",
        "\n",
        "1. [Phylogenetics Basics Part-1](https://youtu.be/lhbPDUS4hjA?si=PGQjmAo5GDSAbF2g)\n",
        "2. [Understanding Algorithms used in Phylogenetics Tree Construction](https://youtu.be/9JU_yjUBY7A?si=IprHHelUJ1TBMOKX)\n",
        "3. [Constructing Phylogenetic Tree](https://youtu.be/PcxIz7ygiHc?si=EaQDu4PvFJpHX6E5)"
      ],
      "metadata": {
        "id": "jpPQAdujXSTD"
      }
    },
    {
      "cell_type": "markdown",
      "metadata": {
        "id": "h2yIMMBtB9ml"
      },
      "source": [
        "##Retrieve YYCG homologues using BLAST"
      ]
    },
    {
      "cell_type": "code",
      "metadata": {
        "id": "yOJ6ou9lj0ef"
      },
      "source": [
        "#Paste your desired sequence\n",
        "from Bio.Seq import Seq\n",
        "my_seq = Seq(\"MSNQRRRESREPTQVQRLFRQLVREWLWISLLLLPLTALLSLSSQSTGNRPGAVLLSVCLVASVLGLLLLRPRLALWTTVGGMSLALLISAVLGARGWWWSPMASVLGIMFGYLIWNWRRLSVVLAYFGWELARLDAEPKVFPERRRASYTGSDRLQGQIMALEQAMSRTRDTRRFIADGLEYLPVATMISDPQGKLLLGNRKARELFGHGLAGGDVLEHLGQLGYPGLEHGAHHRLSTLPLVEFRDIRERSLRLERAALLPVDGDAPIGWLLSLTDLSAEREAEEQRSVMLRFLSHDLRAPHSAILALLDVQRYQGGGDNPLFDQIERQVRRALDLTEGFVQLAKAESEAYQFQPTLFAMLVLDVLDQALPIAQAKRIQLIHDIEDEEAMVRADQPLLTRALFNLLENAIKYSAPDACISLQVHCTPGWLICNVADQGKGISAEELPDLFRQYRRFSSAHGVDGIGLGLSMVKAVVDHHEGKIECRSVVGKGTTFSLRFPLLED\")"
      ],
      "execution_count": 4,
      "outputs": []
    },
    {
      "cell_type": "code",
      "source": [
        "#Printing the number of amino acids as an example\n",
        "print(\"Sequence length (aa):\")\n",
        "print(len(my_seq))"
      ],
      "metadata": {
        "id": "vb6frLpTzhC9"
      },
      "execution_count": null,
      "outputs": []
    },
    {
      "cell_type": "markdown",
      "metadata": {
        "id": "HnVcH7l4izF2"
      },
      "source": [
        "Once we have already stored the information of our query sequence in a string, we can use it to perform a BLAST search inside Google Colab via biopython through _NCBIWWW_.\n",
        "\n",
        "  The code cell bellow specifies the blast program **blastp**, the database **pdb** and the query sequence. This process should not take longer than 2 min."
      ]
    },
    {
      "cell_type": "code",
      "metadata": {
        "id": "ChxitIMEkw8E"
      },
      "source": [
        "#Using biopython to perform a blast search\n",
        "%%time\n",
        "from Bio.Blast import NCBIWWW\n",
        "#NCBIWWW.qblast(program, database, sequence)\n",
        "result_handle = NCBIWWW.qblast(\"blastp\", \"nr\", my_seq, entrez_query='')"
      ],
      "execution_count": null,
      "outputs": []
    },
    {
      "cell_type": "markdown",
      "metadata": {
        "id": "DC3IwSuimbaW"
      },
      "source": [
        "In order to parse this data, we need to store it in a handle for post-processing using _NCBIXML_, as shown below:"
      ]
    },
    {
      "cell_type": "code",
      "metadata": {
        "id": "MZozLVEcnfA1"
      },
      "source": [
        "#Read the results in XML format for parsing BLAST records\n",
        "from Bio.Blast import NCBIXML\n",
        "blast_record = NCBIXML.read(result_handle)\n",
        "#This is required to reset the searches and start over again\n",
        "result_handle.close()"
      ],
      "execution_count": 7,
      "outputs": []
    },
    {
      "cell_type": "markdown",
      "metadata": {
        "id": "V7qRGKKsn_UY"
      },
      "source": [
        "_NCBIXML_ enables data manipulation similarly to what we saw before for _SeqIO_. In the following code cell, try to obtain the BLAST **hit id**"
      ]
    },
    {
      "cell_type": "code",
      "metadata": {
        "id": "3hnxPKj-oqa1"
      },
      "source": [
        "#Testing the functions of NCBIXML parsing\n",
        "for alignment in blast_record.alignments:\n",
        "  for hsp in alignment.hsps:\n",
        "    #Example with the accession code\n",
        "    print(\"Hit ID:\")\n",
        "    print(alignment.hit_id)"
      ],
      "execution_count": null,
      "outputs": []
    },
    {
      "cell_type": "markdown",
      "metadata": {
        "id": "VvWpHiceqNi5"
      },
      "source": [
        "We can use all these functions to print a BLAST-like briefing of the results, and to even filter the results according to parameters such as the sequence identity, coverage and/or e-value. **Carefully examine the commands below to achieve this and the resulting output.**"
      ]
    },
    {
      "cell_type": "code",
      "metadata": {
        "id": "atHlk0A-iRtZ"
      },
      "source": [
        "#Here, we show how we can set a sequence identity cut-off\n",
        "#Many other cut-offs can be employed!\n",
        "PIDcut=1.00\n",
        "#Printing all BLAST parameters similarly to the website\n",
        "for alignment in blast_record.alignments:\n",
        "  for hsp in alignment.hsps:\n",
        "#Here, we add a condition to only print hits equal or less than a PID cutoff\n",
        "    if(hsp.identities/hsp.align_length) <= PIDcut:\n",
        "      print(\"Accession code:\", alignment.hit_id)\n",
        "      print(\"Sequence length:\", alignment.length)\n",
        "      print(\"Alignment length:\", hsp.align_length)\n",
        "      print(\"E-value:\", hsp.expect)\n",
        "#The following command calculates the sequence identity relative to\n",
        "#the length of the alignment\n",
        "      print(\"Sequence Identity [%]:\", \"{:.2f}\".format(100*hsp.identities/hsp.align_length))\n",
        "#The following command calculates the sequence coverage relative to\n",
        "#the lenght of the sequence\n",
        "      print(\"Sequence Coverage [%]:\", \"{:.2f}\".format(100*sum(c.isalpha() for c in hsp.query)/len(my_seq)))\n",
        "      print()\n",
        "#Here, we print the first 60 characters of the query and hit and their matches\n",
        "      print(\"query:\", hsp.query[0:60] + \"...\")\n",
        "      print(\"      \", hsp.match[0:60] + \"...\")\n",
        "      print(\"sbjct:\", hsp.sbjct[0:60] + \"...\")\n",
        "      print()\n"
      ],
      "execution_count": null,
      "outputs": []
    },
    {
      "cell_type": "markdown",
      "metadata": {
        "id": "9IwBZmXOtmc5"
      },
      "source": [
        "After the BLAST search and filtering, we would like to retrieve all sequences that match our selection criteria. Here, we opted to download the top 10 sequences, but you can use filters such as minimum sequence coverage, minimum e-value and maximum PID to limit your output sequences."
      ]
    },
    {
      "cell_type": "code",
      "metadata": {
        "id": "NWaDVmpp3JDx"
      },
      "source": [
        "from Bio import Entrez, SeqIO\n",
        "#Setting up your email to be able to use Entrez\n",
        "Entrez.email = 'your.email@uc.cl'\n",
        "\n",
        "#Generate a loop to write all sequences into an output file\n",
        "with open(\"sequences.fasta\", \"a\") as allhits_out:\n",
        "#Check how we are indicating to use the top 10 hits\n",
        "  for alignment in blast_record.alignments[:20]:\n",
        "    for hsp in alignment.hsps:\n",
        "    #Here, we add a condition to print only sequences below a PID cutoff\n",
        "      if(hsp.identities/len(hsp.match)) <= PIDcut:\n",
        "        print(\"Fetching protein sequence:\", alignment.hit_id)\n",
        "        fetch = Entrez.efetch(db=\"protein\", id=alignment.hit_id, rettype=\"fasta\")\n",
        "        #Reading the sequence stored in the temporary string in fasta format\n",
        "        allhits_seqs = SeqIO.read(fetch, format=\"fasta\")\n",
        "        #Writing the sequence and its ID in fasta format\n",
        "        SeqIO.write(allhits_seqs,allhits_out,\"fasta\")\n",
        "        fetch.close()\n",
        "#Closing the efetch and file\n",
        "allhits_out.close()"
      ],
      "execution_count": null,
      "outputs": []
    },
    {
      "cell_type": "markdown",
      "metadata": {
        "id": "7a8lnCG8xkEx"
      },
      "source": [
        "😱 **EMERGENCY BACKUP!** In case BLASTP fails due to an issue with the NCBI servers, you can download a FASTA file containing 10 protein sequence homologs generated on Sep 27, 2021:"
      ]
    },
    {
      "cell_type": "code",
      "metadata": {
        "id": "1WWm3QqTyFgW"
      },
      "source": [
        "!wget https://github.com/pb3lab/ibm3202/raw/master/files/emergency_backup/lab03/sequences.fasta -O sequences.fasta"
      ],
      "execution_count": null,
      "outputs": []
    },
    {
      "cell_type": "markdown",
      "metadata": {
        "id": "9h_NN5COWGjo"
      },
      "source": [
        "##Obtain and edit a Multiple Sequence Alignment (MSA) using MAFFT and biopython"
      ]
    },
    {
      "cell_type": "markdown",
      "metadata": {
        "id": "bEM7r3aL87xu"
      },
      "source": [
        "Once BLAST is resolved, we can proceeed with the **Multiple Sequence Alignment (MSA)**. In this case, we will first employ **MAFFT** to align all retrieved sequences.\n",
        "\n",
        "To perform a MSA alignment using MAFFT, we can again use the biopython _Bio.Align.Applications_ wrapper as shown in the code cell below."
      ]
    },
    {
      "cell_type": "code",
      "metadata": {
        "id": "ql6daJM9bMuS",
        "outputId": "04cd89e3-ac24-429a-8ef1-59594a58567e",
        "colab": {
          "base_uri": "https://localhost:8080/"
        }
      },
      "source": [
        "from Bio.Align.Applications import MafftCommandline\n",
        "mafft_cline=MafftCommandline(input=\"sequences.fasta\")\n",
        "print(mafft_cline)\n",
        "stdout, stderr = mafft_cline()\n",
        "with open(\"aligned.fasta\", \"w\") as handle:\n",
        "  handle.write(stdout)\n",
        "from Bio import AlignIO\n",
        "align = AlignIO.read(\"aligned.fasta\", \"fasta\")"
      ],
      "execution_count": 11,
      "outputs": [
        {
          "output_type": "stream",
          "name": "stderr",
          "text": [
            "/usr/local/lib/python3.10/dist-packages/Bio/Application/__init__.py:39: BiopythonDeprecationWarning: The Bio.Application modules and modules relying on it have been deprecated.\n",
            "\n",
            "Due to the on going maintenance burden of keeping command line application\n",
            "wrappers up to date, we have decided to deprecate and eventually remove these\n",
            "modules.\n",
            "\n",
            "We instead now recommend building your command line and invoking it directly\n",
            "with the subprocess module.\n",
            "  warnings.warn(\n"
          ]
        },
        {
          "output_type": "stream",
          "name": "stdout",
          "text": [
            "mafft sequences.fasta\n"
          ]
        }
      ]
    },
    {
      "cell_type": "markdown",
      "metadata": {
        "id": "4_wbJAK9-Bku"
      },
      "source": [
        "The result from this algorithm, which is an extension of the **Pairwise Alignment Algorithms** we discussed during Lectures, can be seen in an online MSA viewer such as [Alignment Viewer 2.0](https://fast.alignmentviewer.org/). Nevertheless, some recent developments using **Panel** widgets and the **Bokeh** interactive plotting library for Python for use in web browsers and dashboards. Here, we will be using one of such developments."
      ]
    },
    {
      "cell_type": "code",
      "metadata": {
        "id": "UYrebWipbp5A",
        "cellView": "form"
      },
      "source": [
        "#@title Protein MSA Viewer in Google Colab\n",
        "#The following code is modified from the wonderful viewer developed by Damien Farrell\n",
        "#https://dmnfarrell.github.io/bioinformatics/bokeh-sequence-aligner\n",
        "\n",
        "#Importing all modules first\n",
        "import os, io, random\n",
        "import string\n",
        "import numpy as np\n",
        "\n",
        "from Bio.Seq import Seq\n",
        "from Bio.Align import MultipleSeqAlignment\n",
        "from Bio import AlignIO, SeqIO\n",
        "\n",
        "import panel as pn\n",
        "import panel.widgets as pnw\n",
        "pn.extension()\n",
        "\n",
        "from bokeh.plotting import figure\n",
        "from bokeh.models import ColumnDataSource, Plot, Grid, Range1d\n",
        "from bokeh.models.glyphs import Text, Rect\n",
        "from bokeh.layouts import gridplot\n",
        "\n",
        "#Setting up the amino color code according to Zappo color scheme\n",
        "def get_colors(seqs):\n",
        "    #make colors for bases in sequence\n",
        "    text = [i for s in list(seqs) for i in s]\n",
        "    #Use Zappo color scheme\n",
        "    clrs =  {'K':'red',\n",
        "             'R':'red',\n",
        "             'H':'red',\n",
        "             'D':'green',\n",
        "             'E':'green',\n",
        "             'Q':'blue',\n",
        "             'N':'blue',\n",
        "             'S':'blue',\n",
        "             'T':'blue',\n",
        "             'A':'blue',\n",
        "             'I':'blue',\n",
        "             'L':'blue',\n",
        "             'M':'blue',\n",
        "             'V':'blue',\n",
        "             'F':'orange',\n",
        "             'Y':'orange',\n",
        "             'W':'orange',\n",
        "             'C':'blue',\n",
        "             'P':'yellow',\n",
        "             'G':'orange',\n",
        "             '-':'white'}\n",
        "    colors = [clrs[i] for i in text]\n",
        "    return colors\n",
        "\n",
        "#Setting up the MSA viewer\n",
        "def view_alignment(aln, fontsize=\"9pt\", plot_width=800):\n",
        "    \"\"\"Bokeh sequence alignment view\"\"\"\n",
        "\n",
        "    #make sequence and id lists from the aln object\n",
        "    seqs = [rec.seq for rec in (aln)]\n",
        "    ids = [rec.id for rec in aln]\n",
        "    text = [i for s in list(seqs) for i in s]\n",
        "    colors = get_colors(seqs)\n",
        "    N = len(seqs[0])\n",
        "    S = len(seqs)\n",
        "    width = .4\n",
        "\n",
        "    x = np.arange(1,N+1)\n",
        "    y = np.arange(0,S,1)\n",
        "    #creates a 2D grid of coords from the 1D arrays\n",
        "    xx, yy = np.meshgrid(x, y)\n",
        "    #flattens the arrays\n",
        "    gx = xx.ravel()\n",
        "    gy = yy.flatten()\n",
        "    #use recty for rect coords with an offset\n",
        "    recty = gy+.5\n",
        "    h= 1/S\n",
        "    #now we can create the ColumnDataSource with all the arrays\n",
        "    source = ColumnDataSource(dict(x=gx, y=gy, recty=recty, text=text, colors=colors))\n",
        "    plot_height = len(seqs)*15+50\n",
        "    x_range = Range1d(0,N+1, bounds='auto')\n",
        "    if N>100:\n",
        "        viewlen=100\n",
        "    else:\n",
        "        viewlen=N\n",
        "    #view_range is for the close up view\n",
        "    view_range = (0,viewlen)\n",
        "    tools=\"xpan, xwheel_zoom, reset, save\"\n",
        "\n",
        "    #entire sequence view (no text, with zoom)\n",
        "    p = figure(title=None, width= plot_width, height=50,\n",
        "               x_range=x_range, y_range=(0,S), tools=tools,\n",
        "               min_border=0, toolbar_location='below')\n",
        "    rects = Rect(x=\"x\", y=\"recty\",  width=1, height=1, fill_color=\"colors\",\n",
        "                 line_color=None, fill_alpha=0.6)\n",
        "    p.add_glyph(source, rects)\n",
        "    p.yaxis.visible = False\n",
        "    p.grid.visible = False\n",
        "\n",
        "    #sequence text view with ability to scroll along x axis\n",
        "    p1 = figure(title=None, width=plot_width, height=plot_height,\n",
        "                x_range=view_range, y_range=ids, tools=\"xpan,reset\",\n",
        "                min_border=0, toolbar_location='below')#, lod_factor=1)\n",
        "    glyph = Text(x=\"x\", y=\"y\", text=\"text\", text_align='center',text_color=\"black\",\n",
        "                text_font=\"monospace\",text_font_size=fontsize)\n",
        "    rects = Rect(x=\"x\", y=\"recty\",  width=1, height=1, fill_color=\"colors\",\n",
        "                line_color=None, fill_alpha=0.4)\n",
        "    p1.add_glyph(source, glyph)\n",
        "    p1.add_glyph(source, rects)\n",
        "\n",
        "    p1.grid.visible = False\n",
        "    p1.xaxis.major_label_text_font_style = \"bold\"\n",
        "    p1.yaxis.minor_tick_line_width = 0\n",
        "    p1.yaxis.major_tick_line_width = 0\n",
        "\n",
        "    p = gridplot([[p],[p1]], toolbar_location='below')\n",
        "    return p\n",
        "\n",
        "#Loading the viewer by indicating the MSA file and format to read\n",
        "#@markdown Name of the MSA file (including the filetype)\n",
        "MSAfile = 'aligned.fasta' #@param {type:\"string\"}\n",
        "MSAformat = 'fasta' #@param {type:\"string\"}\n",
        "aln = AlignIO.read(MSAfile,MSAformat)\n",
        "p = view_alignment(aln, plot_width=900)\n",
        "pn.pane.Bokeh(p)"
      ],
      "execution_count": null,
      "outputs": []
    },
    {
      "cell_type": "markdown",
      "metadata": {
        "id": "exUsc7YR-dXe"
      },
      "source": [
        "As you can see, the sequences are aligned, as many residues that are conserved between different sequences occupy the same columns within the alignment. However, **we can also see\n",
        "some sequences that are longer on the ends of the protein**. These ends will contribute nothing to the alignment, as there is nothing to compare them to. Therefore, we will trim the sequences on both N-and C-ends by selecting the regions we want to eliminate.\n",
        "\n",
        "  Ideally, you would manually correct the alignment and trim the ends of the sequences, and **we encourage you to do it**. Due to time restrictions, we include a script below that trims the N- and C-ends of the alignment based on finding the first and lasts columns of the MSA without any gaps.\n"
      ]
    },
    {
      "cell_type": "code",
      "metadata": {
        "id": "cPgR1wuGzHWL"
      },
      "source": [
        "import sys\n",
        "from Bio import AlignIO\n",
        "aln = AlignIO.read(\"aligned.fasta\", \"fasta\")\n",
        "\n",
        "for fcol in range(aln.get_alignment_length()):\n",
        "  if not \"-\" in aln[:, fcol]:\n",
        "    position1 = fcol\n",
        "    print(\"First full column is {}\".format(fcol))\n",
        "    break\n",
        "for lcol in reversed(range(aln.get_alignment_length())):\n",
        "  if not \"-\" in aln[:, lcol]:\n",
        "    position2 = lcol+1\n",
        "    print(\"Last full column is {}\".format(lcol))\n",
        "    break\n",
        "\n",
        "print(\"New alignment:\")\n",
        "print(aln[:, position1:position2])\n",
        "\n",
        "with open(\"aligned_trimmed.fasta\", \"w\") as handle:\n",
        "  count = (SeqIO.write(aln[:, position1:position2], handle, \"fasta\"))\n",
        "\n",
        "trim = AlignIO.read(\"aligned_trimmed.fasta\", \"fasta\")"
      ],
      "execution_count": null,
      "outputs": []
    },
    {
      "cell_type": "markdown",
      "metadata": {
        "id": "uwIFOU8L_rAg"
      },
      "source": [
        "We also need to **make sure that there are no duplicated sequences included in it**. Having redundant information does not have any benefit for the phylogenetic analysis that we are pursuing here.\n",
        "\n",
        "  Do we have duplicated sequences? We can rapidly generate a distance matrix based on the pairwise differences between all sequences in the alignment file using the biopython _DistanceCalculator_ tool. Thus, a pair of sequences with 0.0 differences would correspond to equivalent sequences (100% sequence identity)."
      ]
    },
    {
      "cell_type": "code",
      "metadata": {
        "id": "xm7b8rCAAC8O"
      },
      "source": [
        "from Bio.Phylo.TreeConstruction import DistanceCalculator\n",
        "from Bio import AlignIO\n",
        "aln = AlignIO.read(open('aligned_trimmed.fasta'), 'fasta')\n",
        "calculator = DistanceCalculator('identity')\n",
        "dm = calculator.get_distance(aln)\n",
        "print(dm)"
      ],
      "execution_count": null,
      "outputs": []
    },
    {
      "cell_type": "markdown",
      "metadata": {
        "id": "9x1cNdED0rgb"
      },
      "source": [
        "There are suitable programs to eliminate the duplicated sequences that you detected in the exercise above, such as **CD-HIT**, but here we opted to directly execute another script that compares the sequences in the alignment and eliminates the duplicated ones."
      ]
    },
    {
      "cell_type": "code",
      "metadata": {
        "id": "XcPGJREX0057"
      },
      "source": [
        "#Sequence cleaner script\n",
        "#Modified from https://peterjc.github.io/wiki/Sequence_Cleaner\n",
        "from Bio import SeqIO\n",
        "\n",
        "def sequence_cleaner(fasta_file, min_length=0):\n",
        "  # Create our hash table to add the sequences\n",
        "  sequences = {}\n",
        "  # Using the Biopython fasta parse we can read our fasta input\n",
        "  for seq_record in SeqIO.parse(fasta_file, \"fasta\"):\n",
        "    # Take the current sequence\n",
        "    sequence = str(seq_record.seq).upper()\n",
        "    # Check if the current sequence is according to the user parameters\n",
        "    if (len(sequence) >= min_length):\n",
        "      # If the sequence passed in the test \"is it clean?\" and it isn't in the\n",
        "      # hash table, the sequence and its id are going to be in the hash\n",
        "        if sequence not in sequences:\n",
        "          sequences[sequence] = seq_record.id\n",
        "      # If it is already in the hash table, we're just gonna concatenate the ID\n",
        "      # of the current sequence to another one that is already in the hash table\n",
        "        else:\n",
        "          sequences[sequence] += \"_\" + seq_record.id\n",
        "\n",
        "  # Write the clean sequences\n",
        "  # Create a file in the same directory where you ran this script\n",
        "  with open(\"clear_\" + fasta_file, \"w+\") as output_file:\n",
        "  # Just read the hash table and write on the file as a fasta format\n",
        "    for sequence in sequences:\n",
        "      output_file.write(\">\" + sequences[sequence] + \"\\n\" + sequence + \"\\n\")\n",
        "  print(\"CLEAN!!!\\nPlease check clear_\" + fasta_file)"
      ],
      "execution_count": 15,
      "outputs": []
    },
    {
      "cell_type": "code",
      "metadata": {
        "id": "fQYoHOUK1BnK"
      },
      "source": [
        "sequence_cleaner('aligned_trimmed.fasta', 0)"
      ],
      "execution_count": null,
      "outputs": []
    },
    {
      "cell_type": "code",
      "metadata": {
        "cellView": "form",
        "id": "KGnHXeHAgQi_"
      },
      "source": [
        "#@title Protein MSA Viewer in Google Colab\n",
        "#The following code is modified from the wonderful viewer developed by Damien Farrell\n",
        "#https://dmnfarrell.github.io/bioinformatics/bokeh-sequence-aligner\n",
        "\n",
        "#Importing all modules first\n",
        "import os, io, random\n",
        "import string\n",
        "import numpy as np\n",
        "\n",
        "from Bio.Seq import Seq\n",
        "from Bio.Align import MultipleSeqAlignment\n",
        "from Bio import AlignIO, SeqIO\n",
        "\n",
        "import panel as pn\n",
        "import panel.widgets as pnw\n",
        "pn.extension()\n",
        "\n",
        "from bokeh.plotting import figure\n",
        "from bokeh.models import ColumnDataSource, Plot, Grid, Range1d\n",
        "from bokeh.models.glyphs import Text, Rect\n",
        "from bokeh.layouts import gridplot\n",
        "\n",
        "#Setting up the amino color code according to Zappo color scheme\n",
        "def get_colors(seqs):\n",
        "    #make colors for bases in sequence\n",
        "    text = [i for s in list(seqs) for i in s]\n",
        "    #Use Zappo color scheme\n",
        "    clrs =  {'K':'red',\n",
        "             'R':'red',\n",
        "             'H':'red',\n",
        "             'D':'green',\n",
        "             'E':'green',\n",
        "             'Q':'blue',\n",
        "             'N':'blue',\n",
        "             'S':'blue',\n",
        "             'T':'blue',\n",
        "             'A':'blue',\n",
        "             'I':'blue',\n",
        "             'L':'blue',\n",
        "             'M':'blue',\n",
        "             'V':'blue',\n",
        "             'F':'orange',\n",
        "             'Y':'orange',\n",
        "             'W':'orange',\n",
        "             'C':'blue',\n",
        "             'P':'yellow',\n",
        "             'G':'orange',\n",
        "             '-':'white'}\n",
        "    colors = [clrs[i] for i in text]\n",
        "    return colors\n",
        "\n",
        "#Setting up the MSA viewer\n",
        "def view_alignment(aln, fontsize=\"9pt\", plot_width=800):\n",
        "    \"\"\"Bokeh sequence alignment view\"\"\"\n",
        "\n",
        "    #make sequence and id lists from the aln object\n",
        "    seqs = [rec.seq for rec in (aln)]\n",
        "    ids = [rec.id for rec in aln]\n",
        "    text = [i for s in list(seqs) for i in s]\n",
        "    colors = get_colors(seqs)\n",
        "    N = len(seqs[0])\n",
        "    S = len(seqs)\n",
        "    width = .4\n",
        "\n",
        "    x = np.arange(1,N+1)\n",
        "    y = np.arange(0,S,1)\n",
        "    #creates a 2D grid of coords from the 1D arrays\n",
        "    xx, yy = np.meshgrid(x, y)\n",
        "    #flattens the arrays\n",
        "    gx = xx.ravel()\n",
        "    gy = yy.flatten()\n",
        "    #use recty for rect coords with an offset\n",
        "    recty = gy+.5\n",
        "    h= 1/S\n",
        "    #now we can create the ColumnDataSource with all the arrays\n",
        "    source = ColumnDataSource(dict(x=gx, y=gy, recty=recty, text=text, colors=colors))\n",
        "    plot_height = len(seqs)*15+50\n",
        "    x_range = Range1d(0,N+1, bounds='auto')\n",
        "    if N>100:\n",
        "        viewlen=100\n",
        "    else:\n",
        "        viewlen=N\n",
        "    #view_range is for the close up view\n",
        "    view_range = (0,viewlen)\n",
        "    tools=\"xpan, xwheel_zoom, reset, save\"\n",
        "\n",
        "    #entire sequence view (no text, with zoom)\n",
        "    p = figure(title=None, width= plot_width, height=50,\n",
        "               x_range=x_range, y_range=(0,S), tools=tools,\n",
        "               min_border=0, toolbar_location='below')\n",
        "    rects = Rect(x=\"x\", y=\"recty\",  width=1, height=1, fill_color=\"colors\",\n",
        "                 line_color=None, fill_alpha=0.6)\n",
        "    p.add_glyph(source, rects)\n",
        "    p.yaxis.visible = False\n",
        "    p.grid.visible = False\n",
        "\n",
        "    #sequence text view with ability to scroll along x axis\n",
        "    p1 = figure(title=None, width=plot_width, height=plot_height,\n",
        "                x_range=view_range, y_range=ids, tools=\"xpan,reset\",\n",
        "                min_border=0, toolbar_location='below')#, lod_factor=1)\n",
        "    glyph = Text(x=\"x\", y=\"y\", text=\"text\", text_align='center',text_color=\"black\",\n",
        "                text_font=\"monospace\",text_font_size=fontsize)\n",
        "    rects = Rect(x=\"x\", y=\"recty\",  width=1, height=1, fill_color=\"colors\",\n",
        "                line_color=None, fill_alpha=0.4)\n",
        "    p1.add_glyph(source, glyph)\n",
        "    p1.add_glyph(source, rects)\n",
        "\n",
        "    p1.grid.visible = False\n",
        "    p1.xaxis.major_label_text_font_style = \"bold\"\n",
        "    p1.yaxis.minor_tick_line_width = 0\n",
        "    p1.yaxis.major_tick_line_width = 0\n",
        "\n",
        "    p = gridplot([[p],[p1]], toolbar_location='below')\n",
        "    return p\n",
        "\n",
        "#Loading the viewer by indicating the MSA file and format to read\n",
        "#@markdown Name of the MSA file (including the filetype)\n",
        "MSAfile = 'clear_aligned_trimmed.fasta' #@param {type:\"string\"}\n",
        "MSAformat = 'fasta' #@param {type:\"string\"}\n",
        "aln = AlignIO.read(MSAfile,MSAformat)\n",
        "p = view_alignment(aln, plot_width=900)\n",
        "pn.pane.Bokeh(p)"
      ],
      "execution_count": null,
      "outputs": []
    },
    {
      "cell_type": "markdown",
      "metadata": {
        "id": "4JH1AQWch94m"
      },
      "source": [
        "##Phylogenetic inference and ancestral sequence reconstruction using RAxML"
      ]
    },
    {
      "cell_type": "markdown",
      "metadata": {
        "id": "9AX2DwfeBs0y"
      },
      "source": [
        "We will use our final, trimmed and filtered alignment to infer the phylogenetic relationships of our sequences with the **heuristic** tree-searching method of **RAxML** using the **Maximum Likelihood (ML)** optimality criterion.\n",
        "\n",
        "What we did not discuss was that the evolutionary models could also incorporate additional parameters, such as invariant sites (conservation) or variations in the substitution rates across sites. For example, **initiation codons (typically, ATG)** may not be free to vary at all. Therefore, we should make such sites invariant. On the other hand, we know that positions on the interior of a protein evolve more slowly that surface residues, therefore substitutions have **varying rates** depending on the position of these residues. In the case of variation, modeling these varying rates is computationally consuming, thus a well-behaved, mathematically tractable **gamma distribution** is used for modeling these rate variations."
      ]
    },
    {
      "cell_type": "markdown",
      "metadata": {
        "id": "ohAIWzroCvGg"
      },
      "source": [
        "Now we will starting doing some ML phylogenetics, but **which model should we use?** Well, ML has the advantage that we can use the **log-likelihood** to infer which evolutionary model is more suitable for the alignment being used (neat, isn’t it?). This is implemented in the **ModelTest-NG** program and can be used as follows:\n"
      ]
    },
    {
      "cell_type": "code",
      "metadata": {
        "id": "klKC-g6dCKqy"
      },
      "source": [
        "!modeltest-ng -i clear_aligned_trimmed.fasta -d aa"
      ],
      "execution_count": null,
      "outputs": []
    },
    {
      "cell_type": "markdown",
      "metadata": {
        "id": "FRmZhhB67_ep"
      },
      "source": [
        "The result will look very complex and unreadable. However, the models are selected according to **AICc**, which determines the suitability of a given model if it best-minimize **-lnL** with the smallest number of parameters. Here, **lnL** is the log-likelihood, with its negative value used as the minimization target during model selection. **In our particular case, the best model turned out as LG+G4**, or the **Le-Gascuel model** with **Gamma** variation"
      ]
    },
    {
      "cell_type": "markdown",
      "metadata": {
        "id": "w1eiPJIF90dU"
      },
      "source": [
        "Now, we can use our final MSA and this evolutionary model to perform our first phylogenetic analysis using **RAxML-NG**"
      ]
    },
    {
      "cell_type": "code",
      "metadata": {
        "id": "FHKS7xYHEVh_"
      },
      "source": [
        "!raxml-ng --msa clear_aligned_trimmed.fasta --model HIVB+I+F --prefix T1 --threads 2"
      ],
      "execution_count": null,
      "outputs": []
    },
    {
      "cell_type": "markdown",
      "metadata": {
        "id": "tS0DiOPc-jg7"
      },
      "source": [
        "We can again use biopython to see the results of our phylogenetic inference using the _Phylo_ tool."
      ]
    },
    {
      "cell_type": "code",
      "metadata": {
        "id": "f-elKCfF-s8n"
      },
      "source": [
        "from Bio import Phylo\n",
        "tree = Phylo.read(\"T1.raxml.bestTree\", \"newick\")\n",
        "Phylo.draw(tree)"
      ],
      "execution_count": null,
      "outputs": []
    },
    {
      "cell_type": "markdown",
      "metadata": {
        "id": "Eecsg5R_-1GS"
      },
      "source": [
        "**QUESTION:** How many clades do you see? How many common ancestors there are? Who are the members of the clade containing our query sequence?"
      ]
    },
    {
      "cell_type": "markdown",
      "metadata": {
        "id": "llzvGVk8EadP"
      },
      "source": [
        "##Testing the Reliability of the Tree\n",
        "Now we need to test the reliability (reproducibility) of our phylogenetic tree using the **boostrapping method** that we discussed during our Lectures. Remember that this is not part of the tree construction method, but a phylogeny test.\n",
        "\n",
        "  While usually 1000-2000 bootstrap replicates are suggested for determining the confidence of the phylogenetic tree, RAxML also has a so-called **bootstopping** method that determines how many bootstrap replicates are required to obtain stable support values. However, for a speedy tutorial, we have requested 100 boostrap replicates only."
      ]
    },
    {
      "cell_type": "code",
      "metadata": {
        "id": "Ov41LC47BUNe"
      },
      "source": [
        "!raxml-ng --bootstrap --msa T1.raxml.rba --model HIVB+I+F --prefix T3 --threads 2 --bs-tree 300"
      ],
      "execution_count": null,
      "outputs": []
    },
    {
      "cell_type": "markdown",
      "metadata": {
        "id": "jKPkOtxjE2ap"
      },
      "source": [
        "**QUESTION:** A reliable clade should have bootstrapping values **> 70**. What would a bootstrapping value of 70 mean?\n",
        "\n",
        "**💡 HINT:** You can still check the convergence of the boostrapping test afterwards by executing the following command:\n",
        "\n",
        "```\n",
        "!raxml-ng --bsconverge --bs-trees T2.raxml.bootstraps --prefix Test --threads 2 --bs-cutoff 0.03\n",
        "```\n",
        "\n",
        "In practice, a convergence cutoff value of 3% should be sufficient in most cases.\n"
      ]
    },
    {
      "cell_type": "markdown",
      "metadata": {
        "id": "IMWzFYCJCnaR"
      },
      "source": [
        "Now, we will map the support values obtained from the boostrapping test onto the best-scoring ML tree on the original MSA. Once you ran the cell code below, use the Phylo package again to show the phylogenetic tree with its bootstrapping values."
      ]
    },
    {
      "cell_type": "code",
      "source": [
        "!raxml-ng --bsconverge --bs-trees T3.raxml.bootstraps --prefix Test --threads 2 --bs-cutoff 0.03"
      ],
      "metadata": {
        "id": "pHQXF-monK3o"
      },
      "execution_count": null,
      "outputs": []
    },
    {
      "cell_type": "code",
      "metadata": {
        "id": "3Rr3dZmWHDVV"
      },
      "source": [
        "!raxml-ng --support --tree T1.raxml.bestTree --bs-trees T3.raxml.bootstraps --prefix T1 --threads 2"
      ],
      "execution_count": null,
      "outputs": []
    },
    {
      "cell_type": "code",
      "metadata": {
        "id": "9uwp7HC7ClwT"
      },
      "source": [
        "#Here, use the biopython Phylo package again!\n",
        "#ADD A CODE BELOW TO DRAW THIS TREE WITH BOOTSTRAP VALUES\n",
        "from Bio import Phylo\n",
        "tree = Phylo.read(\"T1.raxml.support\", \"newick\")\n",
        "Phylo.draw(tree)"
      ],
      "execution_count": null,
      "outputs": []
    },
    {
      "cell_type": "markdown",
      "metadata": {
        "id": "j6Q-WDyIH8K9"
      },
      "source": [
        "With this, we are done with inferring our phylogenetic trees. Also, we can get and download the **YourFileName.raxml.bestTree** file (which is the tree file) an see it in the visualizing website [**iTOL**](https://itol.embl.de/).\n",
        "\n",
        "  At the top of this site, there is an **UPLOAD** button. We can press the button and upload the besttree file to nicely draw our phylogenetic tree."
      ]
    },
    {
      "cell_type": "markdown",
      "metadata": {
        "id": "Lnl-9luRIgY2"
      },
      "source": [
        "We will now **use the ML tree** to obtain an estimation of the **ancestral sequence** for the FoxP clade. The DNA encoding these protein sequences are usually synthesized by researchers to evaluate their structure and function and allowing inference of the cellular, environmental and functional contexts of ancestral and extant organisms.\n",
        "\n",
        "  Since we already have the MSA and the ML tree, we do not need anything extra to obtain the ancestral sequences at each of the internal nodes. Just use the code below.\n"
      ]
    },
    {
      "cell_type": "code",
      "metadata": {
        "id": "GmxWkKnJiLaO"
      },
      "source": [
        "!raxml-ng --ancestral --msa clear_aligned_trimmed.fasta --tree T1.raxml.bestTree --model LG+G4 --prefix ASR"
      ],
      "execution_count": null,
      "outputs": []
    },
    {
      "cell_type": "markdown",
      "metadata": {
        "id": "7cgzhP-dJN6b"
      },
      "source": [
        "Now, open the **YourFileName.raxml.ancestralStates** to see the most probable sequences based on the probabilities for each position of the alignment (which are contained in the **YourFileName.raxml.ancestralProbs** file).\n",
        "\n",
        "  But which sequence correspond to which node? You can now draw the **YourFileName.raxml.ancestralTree** to check the numbers of each node and determine which sequence correspond to the FoxP clade."
      ]
    },
    {
      "cell_type": "code",
      "metadata": {
        "id": "zBvCa7KGKGEL"
      },
      "source": [
        "#Here, se the biopython Phylo package again!\n",
        "from Bio import Phylo\n",
        "tree = Phylo.read(\"ASR.raxml.ancestralTree\", \"newick\")\n",
        "Phylo.draw(tree)"
      ],
      "execution_count": null,
      "outputs": []
    },
    {
      "cell_type": "markdown",
      "source": [
        "**Good Luck**"
      ],
      "metadata": {
        "id": "fgVifgj52EIC"
      }
    }
  ]
}